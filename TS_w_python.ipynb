{
  "nbformat": 4,
  "nbformat_minor": 0,
  "metadata": {
    "colab": {
      "name": "TS_w_python.ipynb",
      "provenance": [],
      "authorship_tag": "ABX9TyOi2HZll1CHAd1DnPDE2wMj",
      "include_colab_link": true
    },
    "kernelspec": {
      "name": "python3",
      "display_name": "Python 3"
    },
    "language_info": {
      "name": "python"
    }
  },
  "cells": [
    {
      "cell_type": "markdown",
      "metadata": {
        "id": "view-in-github",
        "colab_type": "text"
      },
      "source": [
        "<a href=\"https://colab.research.google.com/github/sabumjung/MACHINE_LEARNING_FOR_TIMESERIES_WITH_PYTHON/blob/main/TS_w_python.ipynb\" target=\"_parent\"><img src=\"https://colab.research.google.com/assets/colab-badge.svg\" alt=\"Open In Colab\"/></a>"
      ]
    },
    {
      "cell_type": "code",
      "execution_count": 1,
      "metadata": {
        "colab": {
          "base_uri": "https://localhost:8080/"
        },
        "id": "EfCTsWRYeOL_",
        "outputId": "30a0cee2-d7b3-4d4f-dac6-a87973ce92bc"
      },
      "outputs": [
        {
          "output_type": "stream",
          "name": "stdout",
          "text": [
            "Cloning into 'Machine-Learning-for-Time-Series-with-Python'...\n",
            "remote: Enumerating objects: 218, done.\u001b[K\n",
            "remote: Counting objects: 100% (218/218), done.\u001b[K\n",
            "remote: Compressing objects: 100% (136/136), done.\u001b[K\n",
            "remote: Total 218 (delta 97), reused 188 (delta 72), pack-reused 0\u001b[K\n",
            "Receiving objects: 100% (218/218), 8.45 MiB | 9.85 MiB/s, done.\n",
            "Resolving deltas: 100% (97/97), done.\n"
          ]
        }
      ],
      "source": [
        "!git clone https://github.com/PacktPublishing/Machine-Learning-for-Time-Series-with-Python.git"
      ]
    },
    {
      "cell_type": "code",
      "source": [
        "!ls"
      ],
      "metadata": {
        "colab": {
          "base_uri": "https://localhost:8080/"
        },
        "id": "mRWIA9ZXebXH",
        "outputId": "203f5fde-2e24-48d8-adb0-a9129b61d020"
      },
      "execution_count": 2,
      "outputs": [
        {
          "output_type": "stream",
          "name": "stdout",
          "text": [
            "Machine-Learning-for-Time-Series-with-Python  sample_data\n"
          ]
        }
      ]
    },
    {
      "cell_type": "code",
      "source": [
        "import os\n",
        "os.chdir('Machine-Learning-for-Time-Series-with-Python')"
      ],
      "metadata": {
        "id": "41rnV3xxeeEl"
      },
      "execution_count": 3,
      "outputs": []
    },
    {
      "cell_type": "code",
      "source": [
        "!ls"
      ],
      "metadata": {
        "colab": {
          "base_uri": "https://localhost:8080/"
        },
        "id": "3jb6DGnFekEI",
        "outputId": "905100ca-0abe-4a15-ad4b-2dafe0db36f9"
      },
      "execution_count": 4,
      "outputs": [
        {
          "output_type": "stream",
          "name": "stdout",
          "text": [
            "chapter10  chapter12  chapter3\tchapter6  chapter8  LICENSE\n",
            "chapter11  chapter2   chapter5\tchapter7  chapter9  README.md\n"
          ]
        }
      ]
    },
    {
      "cell_type": "code",
      "source": [
        "os.chdir('chapter10')"
      ],
      "metadata": {
        "id": "CUbMB73Xek_d"
      },
      "execution_count": 5,
      "outputs": []
    },
    {
      "cell_type": "code",
      "source": [
        "!ls"
      ],
      "metadata": {
        "colab": {
          "base_uri": "https://localhost:8080/"
        },
        "id": "TIM2VBzveu19",
        "outputId": "f0b4d39d-89ea-4883-8771-307254745adf"
      },
      "execution_count": 6,
      "outputs": [
        {
          "output_type": "stream",
          "name": "stdout",
          "text": [
            "Causal_CNN.ipynb  RNN.ipynb\n",
            "passengers.csv\t  Time_Series_with_Deep_Learning.ipynb\n"
          ]
        }
      ]
    },
    {
      "cell_type": "code",
      "source": [
        "!pip install import_ipynb"
      ],
      "metadata": {
        "colab": {
          "base_uri": "https://localhost:8080/"
        },
        "id": "hiT1hfLsevZ9",
        "outputId": "e82dbae6-59a4-4d4f-8c91-d59f52558730"
      },
      "execution_count": 7,
      "outputs": [
        {
          "output_type": "stream",
          "name": "stdout",
          "text": [
            "Collecting import_ipynb\n",
            "  Downloading import-ipynb-0.1.3.tar.gz (4.0 kB)\n",
            "Building wheels for collected packages: import-ipynb\n",
            "  Building wheel for import-ipynb (setup.py) ... \u001b[?25l\u001b[?25hdone\n",
            "  Created wheel for import-ipynb: filename=import_ipynb-0.1.3-py3-none-any.whl size=2975 sha256=e723ef081086e895791f36259b41879c9dd86ace81c9826e89bb362d69055a9d\n",
            "  Stored in directory: /root/.cache/pip/wheels/b1/5e/dc/79780689896a056199b0b9f24471e3ee184fbd816df355d5f0\n",
            "Successfully built import-ipynb\n",
            "Installing collected packages: import-ipynb\n",
            "Successfully installed import-ipynb-0.1.3\n"
          ]
        }
      ]
    },
    {
      "cell_type": "code",
      "source": [
        "import import_ipynb"
      ],
      "metadata": {
        "id": "lM41S-QyfPZo"
      },
      "execution_count": 8,
      "outputs": []
    },
    {
      "cell_type": "code",
      "source": [
        "importing "
      ],
      "metadata": {
        "id": "nEcS7MyjfRCm"
      },
      "execution_count": null,
      "outputs": []
    }
  ]
}