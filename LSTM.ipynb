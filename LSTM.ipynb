{
  "nbformat": 4,
  "nbformat_minor": 0,
  "metadata": {
    "colab": {
      "name": "LSTM.ipynb",
      "provenance": [],
      "authorship_tag": "ABX9TyMOXJEDCJDTyBKLdovyV/P1",
      "include_colab_link": true
    },
    "kernelspec": {
      "name": "python3",
      "display_name": "Python 3"
    },
    "language_info": {
      "name": "python"
    }
  },
  "cells": [
    {
      "cell_type": "markdown",
      "metadata": {
        "id": "view-in-github",
        "colab_type": "text"
      },
      "source": [
        "<a href=\"https://colab.research.google.com/github/sabumjung/MACHINE_LEARNING_FOR_TIMESERIES_WITH_PYTHON/blob/main/LSTM.ipynb\" target=\"_parent\"><img src=\"https://colab.research.google.com/assets/colab-badge.svg\" alt=\"Open In Colab\"/></a>"
      ]
    },
    {
      "cell_type": "markdown",
      "source": [
        "# 서론\n",
        "+ LSTM은 과거 정보를 저장할 수 있기 때문에 시퀀스 예측 문제에 적합함\n",
        "+ 예) 이전 가격이 미래 가격을 예측하는데 중요한 경우 유용하게 사용할 수 있음\n",
        "\n",
        "## 라이브러리를 가져오기\n",
        "+ 먼저 과학적 계산을 위해 NumPy를\n",
        "+ 그래프를 그리기 위해 Matplotlib를\n",
        "+ 데이터셋 로드 및 조작을 위하 Pandas를 "
      ],
      "metadata": {
        "id": "uUa1zRjYH7xB"
      }
    },
    {
      "cell_type": "code",
      "source": [
        "import numpy as np\n",
        "import matplotlib.pyplot as plt\n",
        "import pandas as pd"
      ],
      "metadata": {
        "id": "CmUJjhIjH1ex"
      },
      "execution_count": null,
      "outputs": []
    },
    {
      "cell_type": "markdown",
      "source": [
        "# 깃허브를 Colab과 연동시키기"
      ],
      "metadata": {
        "id": "pGyAnNJoRCK5"
      }
    },
    {
      "cell_type": "code",
      "source": [
        "!git clone https://github.com/mwitiderrick/stockprice.git"
      ],
      "metadata": {
        "colab": {
          "base_uri": "https://localhost:8080/"
        },
        "id": "CLxHFgyBQFix",
        "outputId": "6dfc1fc9-a32b-49e7-db2d-00ec2b0f6d29"
      },
      "execution_count": null,
      "outputs": [
        {
          "output_type": "stream",
          "name": "stdout",
          "text": [
            "Cloning into 'stockprice'...\n",
            "remote: Enumerating objects: 8, done.\u001b[K\n",
            "remote: Counting objects: 100% (2/2), done.\u001b[K\n",
            "remote: Compressing objects: 100% (2/2), done.\u001b[K\n",
            "remote: Total 8 (delta 0), reused 0 (delta 0), pack-reused 6\u001b[K\n",
            "Unpacking objects: 100% (8/8), done.\n"
          ]
        }
      ]
    },
    {
      "cell_type": "code",
      "source": [
        "ls -ltr"
      ],
      "metadata": {
        "colab": {
          "base_uri": "https://localhost:8080/"
        },
        "id": "2hugmhpmQT2w",
        "outputId": "9f4e1257-f02a-48eb-dc3e-112cf5ec2492"
      },
      "execution_count": null,
      "outputs": [
        {
          "output_type": "stream",
          "name": "stdout",
          "text": [
            "total 8\n",
            "drwxr-xr-x 1 root root 4096 Mar 23 14:22 \u001b[0m\u001b[01;34msample_data\u001b[0m/\n",
            "drwxr-xr-x 3 root root 4096 Mar 26 04:18 \u001b[01;34mstockprice\u001b[0m/\n"
          ]
        }
      ]
    },
    {
      "cell_type": "markdown",
      "source": [
        "## 데이터셋 로딩하기\n",
        "+ 훈련용 데이터셋을 로딩하고\n",
        "+ 모델링에서 사용하고자 하는 컬럼인 Open과 High을 선택한다."
      ],
      "metadata": {
        "id": "W8urgUEDIhIZ"
      }
    },
    {
      "cell_type": "code",
      "source": [
        "dataset_train = pd.read_csv('stockprice/NSE-TATAGLOBAL.csv')\n",
        "training_set = dataset_train.iloc[:, 1:2].values"
      ],
      "metadata": {
        "id": "pkupDinuQZLo"
      },
      "execution_count": null,
      "outputs": []
    },
    {
      "cell_type": "code",
      "source": [
        "dataset_train.head()"
      ],
      "metadata": {
        "colab": {
          "base_uri": "https://localhost:8080/",
          "height": 206
        },
        "id": "8ohPO0jdQmNw",
        "outputId": "21a40115-98ba-403d-927a-28beb3bdae7a"
      },
      "execution_count": null,
      "outputs": [
        {
          "output_type": "execute_result",
          "data": {
            "text/plain": [
              "         Date    Open    High     Low    Last   Close  Total Trade Quantity  \\\n",
              "0  2018-09-28  234.05  235.95  230.20  233.50  233.75               3069914   \n",
              "1  2018-09-27  234.55  236.80  231.10  233.80  233.25               5082859   \n",
              "2  2018-09-26  240.00  240.00  232.50  235.00  234.25               2240909   \n",
              "3  2018-09-25  233.30  236.75  232.00  236.25  236.10               2349368   \n",
              "4  2018-09-24  233.55  239.20  230.75  234.00  233.30               3423509   \n",
              "\n",
              "   Turnover (Lacs)  \n",
              "0          7162.35  \n",
              "1         11859.95  \n",
              "2          5248.60  \n",
              "3          5503.90  \n",
              "4          7999.55  "
            ],
            "text/html": [
              "\n",
              "  <div id=\"df-8189f305-ba0f-4dbe-9c54-72d3e4608d7a\">\n",
              "    <div class=\"colab-df-container\">\n",
              "      <div>\n",
              "<style scoped>\n",
              "    .dataframe tbody tr th:only-of-type {\n",
              "        vertical-align: middle;\n",
              "    }\n",
              "\n",
              "    .dataframe tbody tr th {\n",
              "        vertical-align: top;\n",
              "    }\n",
              "\n",
              "    .dataframe thead th {\n",
              "        text-align: right;\n",
              "    }\n",
              "</style>\n",
              "<table border=\"1\" class=\"dataframe\">\n",
              "  <thead>\n",
              "    <tr style=\"text-align: right;\">\n",
              "      <th></th>\n",
              "      <th>Date</th>\n",
              "      <th>Open</th>\n",
              "      <th>High</th>\n",
              "      <th>Low</th>\n",
              "      <th>Last</th>\n",
              "      <th>Close</th>\n",
              "      <th>Total Trade Quantity</th>\n",
              "      <th>Turnover (Lacs)</th>\n",
              "    </tr>\n",
              "  </thead>\n",
              "  <tbody>\n",
              "    <tr>\n",
              "      <th>0</th>\n",
              "      <td>2018-09-28</td>\n",
              "      <td>234.05</td>\n",
              "      <td>235.95</td>\n",
              "      <td>230.20</td>\n",
              "      <td>233.50</td>\n",
              "      <td>233.75</td>\n",
              "      <td>3069914</td>\n",
              "      <td>7162.35</td>\n",
              "    </tr>\n",
              "    <tr>\n",
              "      <th>1</th>\n",
              "      <td>2018-09-27</td>\n",
              "      <td>234.55</td>\n",
              "      <td>236.80</td>\n",
              "      <td>231.10</td>\n",
              "      <td>233.80</td>\n",
              "      <td>233.25</td>\n",
              "      <td>5082859</td>\n",
              "      <td>11859.95</td>\n",
              "    </tr>\n",
              "    <tr>\n",
              "      <th>2</th>\n",
              "      <td>2018-09-26</td>\n",
              "      <td>240.00</td>\n",
              "      <td>240.00</td>\n",
              "      <td>232.50</td>\n",
              "      <td>235.00</td>\n",
              "      <td>234.25</td>\n",
              "      <td>2240909</td>\n",
              "      <td>5248.60</td>\n",
              "    </tr>\n",
              "    <tr>\n",
              "      <th>3</th>\n",
              "      <td>2018-09-25</td>\n",
              "      <td>233.30</td>\n",
              "      <td>236.75</td>\n",
              "      <td>232.00</td>\n",
              "      <td>236.25</td>\n",
              "      <td>236.10</td>\n",
              "      <td>2349368</td>\n",
              "      <td>5503.90</td>\n",
              "    </tr>\n",
              "    <tr>\n",
              "      <th>4</th>\n",
              "      <td>2018-09-24</td>\n",
              "      <td>233.55</td>\n",
              "      <td>239.20</td>\n",
              "      <td>230.75</td>\n",
              "      <td>234.00</td>\n",
              "      <td>233.30</td>\n",
              "      <td>3423509</td>\n",
              "      <td>7999.55</td>\n",
              "    </tr>\n",
              "  </tbody>\n",
              "</table>\n",
              "</div>\n",
              "      <button class=\"colab-df-convert\" onclick=\"convertToInteractive('df-8189f305-ba0f-4dbe-9c54-72d3e4608d7a')\"\n",
              "              title=\"Convert this dataframe to an interactive table.\"\n",
              "              style=\"display:none;\">\n",
              "        \n",
              "  <svg xmlns=\"http://www.w3.org/2000/svg\" height=\"24px\"viewBox=\"0 0 24 24\"\n",
              "       width=\"24px\">\n",
              "    <path d=\"M0 0h24v24H0V0z\" fill=\"none\"/>\n",
              "    <path d=\"M18.56 5.44l.94 2.06.94-2.06 2.06-.94-2.06-.94-.94-2.06-.94 2.06-2.06.94zm-11 1L8.5 8.5l.94-2.06 2.06-.94-2.06-.94L8.5 2.5l-.94 2.06-2.06.94zm10 10l.94 2.06.94-2.06 2.06-.94-2.06-.94-.94-2.06-.94 2.06-2.06.94z\"/><path d=\"M17.41 7.96l-1.37-1.37c-.4-.4-.92-.59-1.43-.59-.52 0-1.04.2-1.43.59L10.3 9.45l-7.72 7.72c-.78.78-.78 2.05 0 2.83L4 21.41c.39.39.9.59 1.41.59.51 0 1.02-.2 1.41-.59l7.78-7.78 2.81-2.81c.8-.78.8-2.07 0-2.86zM5.41 20L4 18.59l7.72-7.72 1.47 1.35L5.41 20z\"/>\n",
              "  </svg>\n",
              "      </button>\n",
              "      \n",
              "  <style>\n",
              "    .colab-df-container {\n",
              "      display:flex;\n",
              "      flex-wrap:wrap;\n",
              "      gap: 12px;\n",
              "    }\n",
              "\n",
              "    .colab-df-convert {\n",
              "      background-color: #E8F0FE;\n",
              "      border: none;\n",
              "      border-radius: 50%;\n",
              "      cursor: pointer;\n",
              "      display: none;\n",
              "      fill: #1967D2;\n",
              "      height: 32px;\n",
              "      padding: 0 0 0 0;\n",
              "      width: 32px;\n",
              "    }\n",
              "\n",
              "    .colab-df-convert:hover {\n",
              "      background-color: #E2EBFA;\n",
              "      box-shadow: 0px 1px 2px rgba(60, 64, 67, 0.3), 0px 1px 3px 1px rgba(60, 64, 67, 0.15);\n",
              "      fill: #174EA6;\n",
              "    }\n",
              "\n",
              "    [theme=dark] .colab-df-convert {\n",
              "      background-color: #3B4455;\n",
              "      fill: #D2E3FC;\n",
              "    }\n",
              "\n",
              "    [theme=dark] .colab-df-convert:hover {\n",
              "      background-color: #434B5C;\n",
              "      box-shadow: 0px 1px 3px 1px rgba(0, 0, 0, 0.15);\n",
              "      filter: drop-shadow(0px 1px 2px rgba(0, 0, 0, 0.3));\n",
              "      fill: #FFFFFF;\n",
              "    }\n",
              "  </style>\n",
              "\n",
              "      <script>\n",
              "        const buttonEl =\n",
              "          document.querySelector('#df-8189f305-ba0f-4dbe-9c54-72d3e4608d7a button.colab-df-convert');\n",
              "        buttonEl.style.display =\n",
              "          google.colab.kernel.accessAllowed ? 'block' : 'none';\n",
              "\n",
              "        async function convertToInteractive(key) {\n",
              "          const element = document.querySelector('#df-8189f305-ba0f-4dbe-9c54-72d3e4608d7a');\n",
              "          const dataTable =\n",
              "            await google.colab.kernel.invokeFunction('convertToInteractive',\n",
              "                                                     [key], {});\n",
              "          if (!dataTable) return;\n",
              "\n",
              "          const docLinkHtml = 'Like what you see? Visit the ' +\n",
              "            '<a target=\"_blank\" href=https://colab.research.google.com/notebooks/data_table.ipynb>data table notebook</a>'\n",
              "            + ' to learn more about interactive tables.';\n",
              "          element.innerHTML = '';\n",
              "          dataTable['output_type'] = 'display_data';\n",
              "          await google.colab.output.renderOutput(dataTable, element);\n",
              "          const docLink = document.createElement('div');\n",
              "          docLink.innerHTML = docLinkHtml;\n",
              "          element.appendChild(docLink);\n",
              "        }\n",
              "      </script>\n",
              "    </div>\n",
              "  </div>\n",
              "  "
            ]
          },
          "metadata": {},
          "execution_count": 5
        }
      ]
    },
    {
      "cell_type": "markdown",
      "source": [
        "##  Feature Scaling\n",
        "+ 이전 경험으로부터 최적 성능을 위한 데이터를 스케일링해야 한다. 이 경우 Scikit-Learn의 MinMaxScaler를 사용하여 모든 데이터가 0에서 1까지 위치하도록 한다."
      ],
      "metadata": {
        "id": "ITJ4741GRNjQ"
      }
    },
    {
      "cell_type": "code",
      "source": [
        "from sklearn.preprocessing import MinMaxScaler\n",
        "sc = MinMaxScaler(feature_range = (0, 1))\n",
        "training_set_scaled = sc.fit_transform(training_set)"
      ],
      "metadata": {
        "id": "j541qg-6RQuA"
      },
      "execution_count": null,
      "outputs": []
    },
    {
      "cell_type": "markdown",
      "source": [
        "## Timesteps로 데이터 생성\n",
        "+ LSTM은 데이터가 특정 형태(3D array)로 되어 있어야 한다.\n",
        "+ 60 timesteps로 되어 있는 데이터를 생성한다\n",
        "+ 생성한 데이터를 NumPy를 이용하여 array로 변환한다.\n",
        "+ 해당 데이터를 3D array로 변환한다.\n",
        "  + 매 단계마다 60 timestamps과 1개의 특징을 갖는 X_train으로 구성됨"
      ],
      "metadata": {
        "id": "vbULAFeGdeZL"
      }
    },
    {
      "cell_type": "code",
      "source": [
        "# Creating a data structure with 60 timesteps and 1 output\n",
        "X_train = []\n",
        "y_train = []\n",
        "for i in range(60, 2035):\n",
        "    X_train.append(training_set_scaled[i-60:i, 0])\n",
        "    y_train.append(training_set_scaled[i, 0])\n",
        "X_train, y_train = np.array(X_train), np.array(y_train)"
      ],
      "metadata": {
        "id": "hnmInfazRiIS"
      },
      "execution_count": null,
      "outputs": []
    },
    {
      "cell_type": "code",
      "source": [
        "# Reshaping\n",
        "X_train = np.reshape(X_train, (X_train.shape[0], X_train.shape[1], 1))"
      ],
      "metadata": {
        "id": "GVGPv3OwcgRW"
      },
      "execution_count": null,
      "outputs": []
    },
    {
      "cell_type": "markdown",
      "source": [
        "## LSTM을 구축하기\n",
        "+ LSTM을 구축하려면 Keras의 몇가지 모듈을 임포트해야 한다.\n",
        "  + Sequeltial : 신경망을 초기화\n",
        "  + Dense : Dense 신경망 계층을 추가\n",
        "  + LSTM : LSTM 계층을 추가\n",
        "  + Dropout : 오버핏을 방지하기 위해 추가"
      ],
      "metadata": {
        "id": "T3vQgnfoeWcl"
      }
    },
    {
      "cell_type": "code",
      "source": [
        "# Part 2 - Building the RNN\n",
        "\n",
        "# Importing the Keras libraries and packages\n",
        "from keras.models import Sequential\n",
        "from keras.layers import Dense\n",
        "from keras.layers import LSTM\n",
        "from keras.layers import Dropout"
      ],
      "metadata": {
        "id": "mT9dWoGKci6e"
      },
      "execution_count": null,
      "outputs": []
    },
    {
      "cell_type": "markdown",
      "source": [
        "+ LSTM 레이어를 추가하고 나중에 몇 개의 Dropout 레이어를 추가하여 과적합을 방지한다. \n",
        "+ LSTM 레이어는 다음 인수를 설정한다.\n",
        "  + units : 출력 공간의 치수를 50유닛으로 설정한다.\n",
        "  + return_sequences = True : 출력 시퀀스의 마지막 출력을 반환할지 전체 시퀀스를 반환할지 여부를 결정한다.\n",
        "  + input_shape : 트레이닝 세트의 쉐이핑으로 사용한다.\n",
        "+ 드롭아웃 레이어를 정의할 때는 0.2를 설정한다.\n",
        "  + 레이어의 20%가 드롭된다.\n",
        "    + 그 후, 1 유닛의 출력을 지정하는 Dense 레이어를 추가합니다. \n",
        "+ adam 옵티마이저를 사용하여 모델을 컴파일하고 \n",
        "  + 손실을 mean_squared_error로 설정한다. \n",
        "  + 다음으로 배치 크기가 32인 100에폭에서 실행되도록 모델을 맞춘다. "
      ],
      "metadata": {
        "id": "f8mNO2cMe4j0"
      }
    },
    {
      "cell_type": "code",
      "source": [
        "# Initialising the RNN\n",
        "regressor = Sequential()\n",
        "\n",
        "# Adding the first LSTM layer and some Dropout regularisation\n",
        "regressor.add(LSTM(units = 50, return_sequences = True, input_shape = (X_train.shape[1], 1)))\n",
        "regressor.add(Dropout(0.2))"
      ],
      "metadata": {
        "id": "g2-pRQzGck3v"
      },
      "execution_count": null,
      "outputs": []
    },
    {
      "cell_type": "code",
      "source": [
        "# Adding a second LSTM layer and some Dropout regularisation\n",
        "regressor.add(LSTM(units = 50, return_sequences = True))\n",
        "regressor.add(Dropout(0.2))"
      ],
      "metadata": {
        "id": "MU_Dzg_tcmim"
      },
      "execution_count": null,
      "outputs": []
    },
    {
      "cell_type": "code",
      "source": [
        "# Adding a third LSTM layer and some Dropout regularisation\n",
        "regressor.add(LSTM(units = 50, return_sequences = True))\n",
        "regressor.add(Dropout(0.2))"
      ],
      "metadata": {
        "id": "Te5hsnsgcoQA"
      },
      "execution_count": null,
      "outputs": []
    },
    {
      "cell_type": "code",
      "source": [
        "# Adding a fourth LSTM layer and some Dropout regularisation\n",
        "regressor.add(LSTM(units = 50))\n",
        "regressor.add(Dropout(0.2))"
      ],
      "metadata": {
        "id": "SoYIcL-fcqPo"
      },
      "execution_count": null,
      "outputs": []
    },
    {
      "cell_type": "code",
      "source": [
        "# Adding the output layer\n",
        "regressor.add(Dense(units = 1))\n",
        "\n",
        "# Compiling the RNN\n",
        "regressor.compile(optimizer = 'adam', loss = 'mean_squared_error')\n",
        "\n",
        "# Fitting the RNN to the Training set\n",
        "regressor.fit(X_train, y_train, epochs = 100, batch_size = 32)"
      ],
      "metadata": {
        "id": "v5RD0fYqctsb",
        "outputId": "580d3a3b-988e-472b-b4e4-b2d76a243be1",
        "colab": {
          "base_uri": "https://localhost:8080/"
        }
      },
      "execution_count": null,
      "outputs": [
        {
          "output_type": "stream",
          "name": "stdout",
          "text": [
            "Epoch 1/100\n",
            "62/62 [==============================] - 20s 170ms/step - loss: 0.0097\n",
            "Epoch 2/100\n",
            "62/62 [==============================] - 16s 260ms/step - loss: 0.0031\n",
            "Epoch 3/100\n",
            "62/62 [==============================] - 13s 214ms/step - loss: 0.0028\n",
            "Epoch 4/100\n",
            "62/62 [==============================] - 8s 126ms/step - loss: 0.0028\n",
            "Epoch 5/100\n",
            "62/62 [==============================] - 8s 122ms/step - loss: 0.0025\n",
            "Epoch 6/100\n",
            "62/62 [==============================] - 8s 129ms/step - loss: 0.0020\n",
            "Epoch 7/100\n",
            "62/62 [==============================] - 7s 119ms/step - loss: 0.0023\n",
            "Epoch 8/100\n",
            "62/62 [==============================] - 7s 120ms/step - loss: 0.0022\n",
            "Epoch 9/100\n",
            "62/62 [==============================] - 8s 123ms/step - loss: 0.0019\n",
            "Epoch 10/100\n",
            "62/62 [==============================] - 7s 120ms/step - loss: 0.0020\n",
            "Epoch 11/100\n",
            "62/62 [==============================] - 7s 120ms/step - loss: 0.0016\n",
            "Epoch 12/100\n",
            "62/62 [==============================] - 7s 119ms/step - loss: 0.0018\n",
            "Epoch 13/100\n",
            "62/62 [==============================] - 7s 120ms/step - loss: 0.0017\n",
            "Epoch 14/100\n",
            "62/62 [==============================] - 9s 140ms/step - loss: 0.0017\n",
            "Epoch 15/100\n",
            "62/62 [==============================] - 8s 125ms/step - loss: 0.0016\n",
            "Epoch 16/100\n",
            "62/62 [==============================] - 8s 124ms/step - loss: 0.0016\n",
            "Epoch 17/100\n",
            "62/62 [==============================] - 8s 125ms/step - loss: 0.0014\n",
            "Epoch 18/100\n",
            "62/62 [==============================] - 8s 124ms/step - loss: 0.0016\n",
            "Epoch 19/100\n",
            "62/62 [==============================] - 8s 125ms/step - loss: 0.0013\n",
            "Epoch 20/100\n",
            "62/62 [==============================] - 8s 122ms/step - loss: 0.0015\n",
            "Epoch 21/100\n",
            "62/62 [==============================] - 7s 120ms/step - loss: 0.0013\n",
            "Epoch 22/100\n",
            "62/62 [==============================] - 8s 124ms/step - loss: 0.0015\n",
            "Epoch 23/100\n",
            "62/62 [==============================] - 15s 236ms/step - loss: 0.0014\n",
            "Epoch 24/100\n",
            "62/62 [==============================] - 7s 120ms/step - loss: 0.0012\n",
            "Epoch 25/100\n",
            "62/62 [==============================] - 7s 120ms/step - loss: 0.0012\n",
            "Epoch 26/100\n",
            "62/62 [==============================] - 7s 120ms/step - loss: 0.0011\n",
            "Epoch 27/100\n",
            "62/62 [==============================] - 7s 120ms/step - loss: 0.0012\n",
            "Epoch 28/100\n",
            "62/62 [==============================] - 7s 120ms/step - loss: 0.0012\n",
            "Epoch 29/100\n",
            "62/62 [==============================] - 7s 120ms/step - loss: 0.0014\n",
            "Epoch 30/100\n",
            "62/62 [==============================] - 7s 119ms/step - loss: 0.0011\n",
            "Epoch 31/100\n",
            "62/62 [==============================] - 7s 121ms/step - loss: 0.0012\n",
            "Epoch 32/100\n",
            "62/62 [==============================] - 7s 120ms/step - loss: 0.0011\n",
            "Epoch 33/100\n",
            "62/62 [==============================] - 7s 120ms/step - loss: 9.1807e-04\n",
            "Epoch 34/100\n",
            "62/62 [==============================] - 8s 122ms/step - loss: 9.4895e-04\n",
            "Epoch 35/100\n",
            "62/62 [==============================] - 7s 121ms/step - loss: 0.0011\n",
            "Epoch 36/100\n",
            "62/62 [==============================] - 8s 128ms/step - loss: 0.0010\n",
            "Epoch 37/100\n",
            "62/62 [==============================] - 7s 120ms/step - loss: 8.6236e-04\n",
            "Epoch 38/100\n",
            "62/62 [==============================] - 7s 120ms/step - loss: 0.0011\n",
            "Epoch 39/100\n",
            "62/62 [==============================] - 7s 121ms/step - loss: 9.6345e-04\n",
            "Epoch 40/100\n",
            "62/62 [==============================] - 7s 119ms/step - loss: 9.2280e-04\n",
            "Epoch 41/100\n",
            "62/62 [==============================] - 8s 122ms/step - loss: 9.1370e-04\n",
            "Epoch 42/100\n",
            "62/62 [==============================] - 7s 120ms/step - loss: 9.3273e-04\n",
            "Epoch 43/100\n",
            "62/62 [==============================] - 7s 120ms/step - loss: 9.9501e-04\n",
            "Epoch 44/100\n",
            "62/62 [==============================] - 8s 121ms/step - loss: 9.3548e-04\n",
            "Epoch 45/100\n",
            "62/62 [==============================] - 7s 119ms/step - loss: 8.3662e-04\n",
            "Epoch 46/100\n",
            "62/62 [==============================] - 7s 119ms/step - loss: 9.5606e-04\n",
            "Epoch 47/100\n",
            "62/62 [==============================] - 7s 120ms/step - loss: 8.7301e-04\n",
            "Epoch 48/100\n",
            "62/62 [==============================] - 7s 120ms/step - loss: 8.2109e-04\n",
            "Epoch 49/100\n",
            "62/62 [==============================] - 8s 121ms/step - loss: 8.2019e-04\n",
            "Epoch 50/100\n",
            "62/62 [==============================] - 7s 120ms/step - loss: 8.6273e-04\n",
            "Epoch 51/100\n",
            "62/62 [==============================] - 8s 128ms/step - loss: 8.0257e-04\n",
            "Epoch 52/100\n",
            "62/62 [==============================] - 8s 132ms/step - loss: 8.1895e-04\n",
            "Epoch 53/100\n",
            "62/62 [==============================] - 9s 142ms/step - loss: 8.6072e-04\n",
            "Epoch 54/100\n",
            "62/62 [==============================] - 8s 122ms/step - loss: 0.0010\n",
            "Epoch 55/100\n",
            "62/62 [==============================] - 8s 121ms/step - loss: 8.9941e-04\n",
            "Epoch 56/100\n",
            "62/62 [==============================] - 7s 120ms/step - loss: 7.5392e-04\n",
            "Epoch 57/100\n",
            "62/62 [==============================] - 7s 120ms/step - loss: 6.8362e-04\n",
            "Epoch 58/100\n",
            "62/62 [==============================] - 7s 119ms/step - loss: 7.7104e-04\n",
            "Epoch 59/100\n",
            "62/62 [==============================] - 7s 119ms/step - loss: 6.9517e-04\n",
            "Epoch 60/100\n",
            "62/62 [==============================] - 7s 119ms/step - loss: 7.1161e-04\n",
            "Epoch 61/100\n",
            "62/62 [==============================] - 7s 119ms/step - loss: 8.2233e-04\n",
            "Epoch 62/100\n",
            "62/62 [==============================] - 7s 120ms/step - loss: 7.5759e-04\n",
            "Epoch 63/100\n",
            "62/62 [==============================] - 8s 122ms/step - loss: 7.2909e-04\n",
            "Epoch 64/100\n",
            "62/62 [==============================] - 8s 124ms/step - loss: 6.2932e-04\n",
            "Epoch 65/100\n",
            "62/62 [==============================] - 8s 131ms/step - loss: 7.1928e-04\n",
            "Epoch 66/100\n",
            "62/62 [==============================] - 8s 129ms/step - loss: 8.3282e-04\n",
            "Epoch 67/100\n",
            "62/62 [==============================] - 8s 122ms/step - loss: 6.7533e-04\n",
            "Epoch 68/100\n",
            "62/62 [==============================] - 7s 121ms/step - loss: 7.3571e-04\n",
            "Epoch 69/100\n",
            "62/62 [==============================] - 7s 119ms/step - loss: 7.7738e-04\n",
            "Epoch 70/100\n",
            "62/62 [==============================] - 8s 121ms/step - loss: 7.9373e-04\n",
            "Epoch 71/100\n",
            "62/62 [==============================] - 10s 168ms/step - loss: 6.8959e-04\n",
            "Epoch 72/100\n",
            "62/62 [==============================] - 7s 120ms/step - loss: 6.7261e-04\n",
            "Epoch 73/100\n",
            "62/62 [==============================] - 7s 120ms/step - loss: 6.4260e-04\n",
            "Epoch 74/100\n",
            "62/62 [==============================] - 8s 123ms/step - loss: 7.8930e-04\n",
            "Epoch 75/100\n",
            "62/62 [==============================] - 8s 122ms/step - loss: 6.7482e-04\n",
            "Epoch 76/100\n",
            "62/62 [==============================] - 8s 121ms/step - loss: 8.1954e-04\n",
            "Epoch 77/100\n",
            "62/62 [==============================] - 7s 119ms/step - loss: 6.8261e-04\n",
            "Epoch 78/100\n",
            "62/62 [==============================] - 7s 120ms/step - loss: 5.9741e-04\n",
            "Epoch 79/100\n",
            "62/62 [==============================] - 8s 121ms/step - loss: 7.0964e-04\n",
            "Epoch 80/100\n",
            "62/62 [==============================] - 8s 124ms/step - loss: 7.4891e-04\n",
            "Epoch 81/100\n",
            "62/62 [==============================] - 13s 215ms/step - loss: 7.3320e-04\n",
            "Epoch 82/100\n",
            "62/62 [==============================] - 9s 151ms/step - loss: 6.7220e-04\n",
            "Epoch 83/100\n",
            "62/62 [==============================] - 11s 184ms/step - loss: 7.5087e-04\n",
            "Epoch 84/100\n",
            "62/62 [==============================] - 13s 215ms/step - loss: 6.9966e-04\n",
            "Epoch 85/100\n",
            "62/62 [==============================] - 8s 121ms/step - loss: 7.9258e-04\n",
            "Epoch 86/100\n",
            "62/62 [==============================] - 9s 142ms/step - loss: 7.0798e-04\n",
            "Epoch 87/100\n",
            "62/62 [==============================] - 7s 120ms/step - loss: 6.5989e-04\n",
            "Epoch 88/100\n",
            "62/62 [==============================] - 8s 122ms/step - loss: 6.8535e-04\n",
            "Epoch 89/100\n",
            "62/62 [==============================] - 8s 123ms/step - loss: 6.1246e-04\n",
            "Epoch 90/100\n",
            "62/62 [==============================] - 8s 122ms/step - loss: 6.1739e-04\n",
            "Epoch 91/100\n",
            "62/62 [==============================] - 7s 119ms/step - loss: 6.0970e-04\n",
            "Epoch 92/100\n",
            "62/62 [==============================] - 7s 119ms/step - loss: 6.3181e-04\n",
            "Epoch 93/100\n",
            "62/62 [==============================] - 7s 120ms/step - loss: 6.2286e-04\n",
            "Epoch 94/100\n",
            "62/62 [==============================] - 7s 119ms/step - loss: 7.5364e-04\n",
            "Epoch 95/100\n",
            "62/62 [==============================] - 7s 121ms/step - loss: 6.0578e-04\n",
            "Epoch 96/100\n",
            "62/62 [==============================] - 9s 147ms/step - loss: 6.0427e-04\n",
            "Epoch 97/100\n",
            "62/62 [==============================] - 8s 119ms/step - loss: 6.5053e-04\n",
            "Epoch 98/100\n",
            "62/62 [==============================] - 7s 121ms/step - loss: 8.7493e-04\n",
            "Epoch 99/100\n",
            "62/62 [==============================] - 7s 120ms/step - loss: 7.0106e-04\n",
            "Epoch 100/100\n",
            "62/62 [==============================] - 7s 120ms/step - loss: 6.5824e-04\n"
          ]
        },
        {
          "output_type": "execute_result",
          "data": {
            "text/plain": [
              "<keras.callbacks.History at 0x7f6be6610b50>"
            ]
          },
          "metadata": {},
          "execution_count": 14
        }
      ]
    },
    {
      "cell_type": "markdown",
      "source": [
        "+ 테스트셋을 이용하여 미래 주가를 예측한다.\n",
        "+ 우선 예측하기 위해 사용할 테스트 셋을 가져온다."
      ],
      "metadata": {
        "id": "3_3g4pQ1fN5L"
      }
    },
    {
      "cell_type": "code",
      "source": [
        "# Part 3 - Making the predictions and visualising the results\n",
        "\n",
        "# Getting the real stock price of 2017\n",
        "dataset_test = pd.read_csv('stockprice/tatatest.csv')\n",
        "real_stock_price = dataset_test.iloc[:, 1:2].values"
      ],
      "metadata": {
        "id": "J_lrhI9gcuuJ"
      },
      "execution_count": null,
      "outputs": []
    },
    {
      "cell_type": "markdown",
      "source": [
        "+ inverse_transform을 사용하여 예측을 한 후 정상 형식으로 주가를 \n",
        "Merge the training set and the test set on the 0 axis.\n",
        "Set the time step as 60 (as seen previously)\n",
        "Use MinMaxScaler to transform the new dataset\n",
        "Reshape the dataset as done previously\n",
        "After making the predictions we use inverse_transform to get back the stock prices in normal readable format.\n",
        "+ 0 축에서 훈련셋과 테스트셋을 머지한다.\n",
        "+ 앞에서와 같이 타임 스텝을 60으로 설정한다.\n",
        "+ MinMaxScaler를 사용하여 새 데이터 세트 변환한다.\n",
        "+ 데이터 셋을 이전과 같이 재구성합니다.\n",
        "+ 예측 후 inverse_transform을 사용하여 주가를 정상적으로 읽을 수 있는 형식으로 되돌린다.\n"
      ],
      "metadata": {
        "id": "jIlCzvPEfRfi"
      }
    },
    {
      "cell_type": "code",
      "source": [
        "# Getting the predicted stock price of 2017\n",
        "dataset_total = pd.concat((dataset_train['Open'], dataset_test['Open']), axis = 0)\n",
        "inputs = dataset_total[len(dataset_total) - len(dataset_test) - 60:].values\n",
        "inputs = inputs.reshape(-1,1)\n",
        "inputs = sc.transform(inputs)\n",
        "X_test = []\n",
        "for i in range(60, 76):\n",
        "    X_test.append(inputs[i-60:i, 0])\n",
        "X_test = np.array(X_test)\n",
        "X_test = np.reshape(X_test, (X_test.shape[0], X_test.shape[1], 1))\n",
        "predicted_stock_price = regressor.predict(X_test)\n",
        "predicted_stock_price = sc.inverse_transform(predicted_stock_price)"
      ],
      "metadata": {
        "id": "hm_HTaeOcxF2"
      },
      "execution_count": null,
      "outputs": []
    },
    {
      "cell_type": "markdown",
      "source": [
        "+ 결과 가시화\n",
        "+ 마지막으로 Matplotlib를 사용하여 예측 주가와 실제 주가를 가시화한다."
      ],
      "metadata": {
        "id": "v-cJeY7VfUEd"
      }
    },
    {
      "cell_type": "code",
      "source": [
        "# Visualising the results\n",
        "plt.plot(real_stock_price, color = 'red', label = 'Real TATA Stock Price')\n",
        "plt.plot(predicted_stock_price, color = 'blue', label = 'Predicted TAT Stock Price')\n",
        "plt.title('TATA Stock Price Prediction')\n",
        "plt.xlabel('Time')\n",
        "plt.ylabel('TATA Stock Price')\n",
        "plt.legend()\n",
        "plt.show()"
      ],
      "metadata": {
        "id": "ywGapeYAczHH",
        "outputId": "ddfc70a8-740a-4659-c7ef-680b4ee4ef27",
        "colab": {
          "base_uri": "https://localhost:8080/",
          "height": 295
        }
      },
      "execution_count": null,
      "outputs": [
        {
          "output_type": "display_data",
          "data": {
            "text/plain": [
              "<Figure size 432x288 with 1 Axes>"
            ],
            "image/png": "[encoded data removed]"
          },
          "metadata": {
            "needs_background": "light"
          }
        }
      ]
    },
    {
      "cell_type": "markdown",
      "source": [
        "+ 플롯을 통해 실제 주가는 상승한 반면 우리 모델도 주가가 상승할 것이라고 예측했다는 것을 알 수 있다. \n",
        "+ LSTM이 시계열 및 순차 데이터 분석에 얼마나 강력한지 명확하게 보여준다."
      ],
      "metadata": {
        "id": "UkZ2zPRDfV3O"
      }
    },
    {
      "cell_type": "markdown",
      "source": [
        "## 결론\n",
        " \n",
        "+ 주가 예측에는 이동평균, 선형회귀, K-Nearest Neighbors, ARIMA, Prophet 등 몇 가지 다른 기술이 있다. 이들은 자체적으로 테스트하여 Keras LSTM과 성능을 비교할 수 있는 기술이다."
      ],
      "metadata": {
        "id": "tMFoknIXfZF9"
      }
    },
    {
      "cell_type": "code",
      "source": [
        ""
      ],
      "metadata": {
        "id": "B9QCVA7nOilB"
      },
      "execution_count": null,
      "outputs": []
    }
  ]
}